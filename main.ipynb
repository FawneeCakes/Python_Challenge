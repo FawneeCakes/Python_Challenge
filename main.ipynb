{
  "nbformat": 4,
  "nbformat_minor": 0,
  "metadata": {
    "colab": {
      "provenance": [],
      "mount_file_id": "1giWqi19mpkQ31dhLgHHf7BhtGmKibuOi",
      "authorship_tag": "ABX9TyMbIE5xU9XGPPA3yKARcWYa",
      "include_colab_link": true
    },
    "kernelspec": {
      "name": "python3",
      "display_name": "Python 3"
    },
    "language_info": {
      "name": "python"
    }
  },
  "cells": [
    {
      "cell_type": "markdown",
      "metadata": {
        "id": "view-in-github",
        "colab_type": "text"
      },
      "source": [
        "<a href=\"https://colab.research.google.com/github/FawneeCakes/Python_Challenge/blob/main/main.ipynb\" target=\"_parent\"><img src=\"https://colab.research.google.com/assets/colab-badge.svg\" alt=\"Open In Colab\"/></a>"
      ]
    },
    {
      "cell_type": "code",
      "execution_count": 2,
      "metadata": {
        "id": "gjzwM_7LYsVU"
      },
      "outputs": [],
      "source": [
        "#The total number of votes cast\n",
        "#A complete list of candidates who received votes\n",
        "#The percentage of votes each candidate won\n",
        "#The total number of votes each candidate won\n",
        "#The winner of the election based on popular vote.\n",
        "\n",
        "import os\n",
        "import csv\n",
        "\n",
        "#Set input and output destinations\n",
        "Election_Data = os.path.join(\"Resources/election_data.csv\")\n",
        "Election_results_output = os.path.join(\"Analysis/election_results_output.txt\")"
      ]
    },
    {
      "cell_type": "code",
      "source": [
        "csvpath = os.path.join('Resources', 'election_data.csv')\n",
        "output_path = os.path.join(\"Analysis\", \"PyPoll_analysis.txt\")\n",
        "\n",
        "\n",
        "with open(csvpath) as csvfile:\n",
        "# read election_data.csv\n",
        "    csvreader = csv.reader(csvfile, delimiter=',')\n",
        "# store the header row\n",
        "    csv_header = next(csvreader)\n",
        "\n",
        "# running total number of votes\n",
        "    total_votes = 0\n",
        "# list of candidate names\n",
        "    candidates = []\n",
        "# dictionary to store each candidate's name with the votes for that person\n",
        "    results = {}\n",
        "\n",
        "    for row in csvreader:\n",
        "# loop through all rows and increase total vote count each time\n",
        "        total_votes += 1\n",
        "\n",
        "# check to see if a name has already been added to the candidates list\n",
        "        if row[2] not in candidates:\n",
        "# add the name to the list if it's not already there\n",
        "            candidates.append(row[2])\n",
        "# save the name to the results dictionary and count it as their first vote\n",
        "            results[row[2]] = 1\n",
        "        else:\n",
        "# if the name has been encountered, count it as one more vote in results\n",
        "            results[row[2]] += 1\n",
        "\n",
        "    with open(output_path, \"w\") as outfile:\n",
        "        outfile.write(\"Election Results\\n\")\n",
        "        outfile.write(\"-------------------------------\\n\")\n",
        "        outfile.write(f\"Total Votes: {total_votes}\\n\")\n",
        "        outfile.write(\"-------------------------------\\n\")\n",
        "\n",
        "        for x in candidates:\n",
        "    # print the percentage and total number of votes won by each candidate\n",
        "    # display the percent to 3 decimals\n",
        "            percent_won = results[x] * 100 / total_votes\n",
        "            outfile.write(f\"{x}: {format(percent_won, '.3f')}%  ({results[x]})\\n\")\n",
        "\n",
        "    # find which key in the results dictionary has the highest value and declare the winner\n",
        "        outfile.write(\"-------------------------------\\n\")\n",
        "        outfile.write(f\"Winner: {max(results, key = results.get)}\\n\")\n",
        "        outfile.write(\"-------------------------------\")\n",
        "\n",
        "    print(open(output_path, \"r\").read())"
      ],
      "metadata": {
        "colab": {
          "base_uri": "https://localhost:8080/"
        },
        "id": "J6pZa7reeKzJ",
        "outputId": "f809f9fc-7491-4a47-9666-a23a62152eee"
      },
      "execution_count": 20,
      "outputs": [
        {
          "output_type": "stream",
          "name": "stdout",
          "text": [
            "Election Results\n",
            "-------------------------------\n",
            "Total Votes: 369711\n",
            "-------------------------------\n",
            "Charles Casper Stockham: 23.049%  (85213)\n",
            "Diana DeGette: 73.812%  (272892)\n",
            "Raymon Anthony Doane: 3.139%  (11606)\n",
            "-------------------------------\n",
            "Winner: Diana DeGette\n",
            "-------------------------------\n"
          ]
        }
      ]
    }
  ]
}