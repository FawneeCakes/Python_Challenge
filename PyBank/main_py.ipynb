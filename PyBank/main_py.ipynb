{
  "nbformat": 4,
  "nbformat_minor": 0,
  "metadata": {
    "colab": {
      "provenance": [],
      "mount_file_id": "1YCyNFvfA1X5Eta_66bOLz1rCcZZ4LIaB",
      "authorship_tag": "ABX9TyPRn+BvS2HjtvHJkNIqiZ+b",
      "include_colab_link": true
    },
    "kernelspec": {
      "name": "python3",
      "display_name": "Python 3"
    },
    "language_info": {
      "name": "python"
    }
  },
  "cells": [
    {
      "cell_type": "markdown",
      "metadata": {
        "id": "view-in-github",
        "colab_type": "text"
      },
      "source": [
        "<a href=\"https://colab.research.google.com/github/FawneeCakes/Python_Challenge/blob/main/main_py.ipynb\" target=\"_parent\"><img src=\"https://colab.research.google.com/assets/colab-badge.svg\" alt=\"Open In Colab\"/></a>"
      ]
    },
    {
      "cell_type": "code",
      "source": [
        "#The total number of months included in the dataset\n",
        "#The net total amount of \"Profit/Losses\" over the entire period\n",
        "#Calculate the changes in \"Profit/Losses\" over the entire period, then find the average of those changes\n",
        "#The greatest increase in profits (date and amount) over the entire period\n",
        "#The greatest decrease in losses (date and amount) over the entire period\n",
        "import os\n",
        "import csv"
      ],
      "metadata": {
        "id": "bzxyN66wUTQn"
      },
      "execution_count": 14,
      "outputs": []
    },
    {
      "cell_type": "code",
      "source": [
        "Financial_Data = os.path.join(\"Resources/budget_data.csv\")\n",
        "Financial_Analysis_output = os.path.join(\"Analysis\", \"Financial_Analysis_output.txt\")\n",
        "Total_Months = 0\n",
        "Total_Net = 0"
      ],
      "metadata": {
        "id": "SNIvyxmgUroL"
      },
      "execution_count": 15,
      "outputs": []
    },
    {
      "source": [
        "import os\n",
        "import csv\n",
        "\n",
        "Financial_Data = \"Resources/budget_data.csv\"\n",
        "# Or provide the absolute path to the file.\n",
        "\n",
        "Financial_Analysis_output = os.path.join(\"Analysis/Financial_Analysis_output.txt\")\n",
        "Total_Months = 0\n",
        "Total_Net = 0\n",
        "\n",
        "#Open and read the CSV file\n",
        "with open(Financial_Data) as csv_file:\n",
        "    csv_reader = csv.reader(csv_file, delimiter = \",\")\n",
        "\n",
        "    #Skip header row\n",
        "    csv_header = next(csv_reader)\n",
        "\n",
        "    #Set list of difference in profits and losses\n",
        "    Net_change_list = []\n",
        "    Month_change_list = []\n",
        "\n",
        "    #First loop runs through totals\n",
        "    for row in csv_reader:\n",
        "\n",
        "        #calculate total months and total sum of profits/losses\n",
        "        Total_Months += 1\n",
        "        Total_Net += int(row[1])\n",
        "\n",
        "        #Net Change is column C (differences list), Net Change List is storing values in column B\n",
        "        Net_change = []\n",
        "        #Adding column B values into a list\n",
        "        Net_change_list.append(int(row[1]))\n",
        "        #Adding column A values into a list\n",
        "        Month_change_list.append(row[0])\n",
        "\n",
        "        #Second loop runs through the actual calculation\n",
        "        for i in range(1, len(Net_change_list)):\n",
        "             Net_change.append(Net_change_list[i]-(Net_change_list[i-1]))"
      ],
      "cell_type": "code",
      "metadata": {
        "id": "QEOXTWzKVMRq"
      },
      "execution_count": 16,
      "outputs": []
    },
    {
      "cell_type": "code",
      "source": [
        "#Calculate average change using differences values\n",
        "Average_change = sum(Net_change)/ len(Net_change)\n",
        "\n",
        "#Find the greatest profit/loss in Net Change\n",
        "Greatest_profit = max(Net_change)\n",
        "Greatest_loss = min(Net_change)\n",
        "\n",
        "#Find the index number to use for month correlation\n",
        "index1 = Net_change.index(Greatest_profit)\n",
        "index2 = Net_change.index(Greatest_loss)\n",
        "\n",
        "#save output to be able to print and export to text file\n",
        "Output = (\n",
        "\"Financial Analysis\\n\"\n",
        "\"---------------------\\n\"\n",
        "f\"Total Months: {Total_Months}\\n\"\n",
        "f\"Change over Period: {Total_Net}\\n\"\n",
        "f\"Average Change: {Average_change:.2f}\\n\"\n",
        "f\"Greatest increase in profit: {Month_change_list[index1 +1]} : {Greatest_profit}\\n\"\n",
        "f\"Greatest decrease in profit: {Month_change_list[index2 +1]} : {Greatest_loss}\")\n",
        "\n",
        "print(Output)\n",
        "\n",
        "#Export to text file\n",
        "\n",
        "with open(Financial_Analysis_output, \"w\") as txt_file:\n",
        "    txt_file.write(Output)"
      ],
      "metadata": {
        "colab": {
          "base_uri": "https://localhost:8080/"
        },
        "id": "--nBep8AVrYI",
        "outputId": "b61b9c87-596d-4fc9-f805-c6672dc7d786"
      },
      "execution_count": 17,
      "outputs": [
        {
          "output_type": "stream",
          "name": "stdout",
          "text": [
            "Financial Analysis\n",
            "---------------------\n",
            "Total Months: 86\n",
            "Change over Period: 22564198\n",
            "Average Change: -8311.11\n",
            "Greatest increase in profit: Aug-16 : 1862002\n",
            "Greatest decrease in profit: Feb-14 : -1825558\n"
          ]
        }
      ]
    }
  ]
}